{
 "cells": [
  {
   "cell_type": "markdown",
   "metadata": {},
   "source": [
    "# 2. Importing Libraries\n",
    "___\n",
    "___"
   ]
  },
  {
   "cell_type": "code",
   "execution_count": null,
   "metadata": {},
   "outputs": [],
   "source": [
    "import cv2\n",
    "import face_recognition\n",
    "import sqlite3\n",
    "import numpy as np\n",
    "from datetime import datetime\n",
    "import time\n",
    "import pickle"
   ]
  },
  {
   "cell_type": "markdown",
   "metadata": {},
   "source": [
    "# 2. Creating Database to try that code is valid\n",
    "___\n",
    "___"
   ]
  },
  {
   "cell_type": "code",
   "execution_count": null,
   "metadata": {},
   "outputs": [],
   "source": [
    "def connect_db():\n",
    "    return sqlite3.connect('session.db', timeout=10)\n",
    "\n",
    "def create_or_update_table():\n",
    "    try:\n",
    "        conn = connect_db()\n",
    "        cursor = conn.cursor()\n",
    "\n",
    "        cursor.execute('''\n",
    "        CREATE TABLE IF NOT EXISTS attendance (\n",
    "            id INTEGER PRIMARY KEY AUTOINCREMENT,\n",
    "            NAME TEXT,\n",
    "            entry_time TEXT,\n",
    "            exit_time TEXT,\n",
    "            encoding BLOB\n",
    "        )\n",
    "        ''')\n",
    "\n",
    "        conn.commit()\n",
    "    except sqlite3.OperationalError as e:\n",
    "        print(f\"Database is locked or another operational error occurred: {e}\")\n",
    "    finally:\n",
    "        conn.close()"
   ]
  },
  {
   "cell_type": "markdown",
   "metadata": {},
   "source": [
    " # 3.  This code logs a person's entry and exit times along with their face encoding in a database.\n",
    "___\n",
    "___"
   ]
  },
  {
   "cell_type": "code",
   "execution_count": null,
   "metadata": {},
   "outputs": [],
   "source": [
    "def When_entry(name, encoding):\n",
    "    try:\n",
    "        if isinstance(encoding, np.ndarray):\n",
    "            print(f\"Encoding to be stored for {name}: {encoding}\")  # طباعة الـ encoding قبل التخزين\n",
    "            encoding_data = pickle.dumps(encoding)  # ترميز الـ encoding باستخدام pickle\n",
    "            current_time = datetime.now().strftime('%Y-%m-%d %H:%M:%S')\n",
    "            conn = connect_db()\n",
    "            cursor = conn.cursor()\n",
    "            cursor.execute(\"INSERT INTO attendance (NAME, entry_time, encoding) VALUES (?, ?, ?)\", \n",
    "                           (name, current_time, sqlite3.Binary(encoding_data)))\n",
    "            conn.commit()\n",
    "\n",
    "\n",
    "            cursor.execute(\"SELECT encoding FROM attendance WHERE NAME = ?\", (name,))\n",
    "            stored_data = cursor.fetchone()\n",
    "\n",
    "            if stored_data and stored_data[0] is not None:  \n",
    "                try:\n",
    "                    print(f\"Stored encoding for {name}: {pickle.loads(stored_data[0])}\")  \n",
    "                except Exception as e:\n",
    "                    print(f\"Error decoding stored encoding for {name}: {e}\")\n",
    "            else:\n",
    "                print(f\"No encoding found or stored encoding is None for {name}\")\n",
    "    except sqlite3.OperationalError as e:\n",
    "        print(f\"Database is locked or another operational error occurred: {e}\")\n",
    "    finally:\n",
    "        conn.close()\n",
    "\n",
    "def when_exit(name):\n",
    "    try:\n",
    "        current_time = datetime.now().strftime('%Y-%m-%d %H:%M:%S')\n",
    "        conn = connect_db()\n",
    "        cursor = conn.cursor()\n",
    "        cursor.execute(\"UPDATE attendance SET exit_time = ? WHERE NAME = ? AND exit_time IS NULL\", \n",
    "                       (current_time, name))\n",
    "        conn.commit()\n",
    "    except sqlite3.OperationalError as e:\n",
    "        print(f\"Database is locked or another operational error occurred: {e}\")\n",
    "    finally:\n",
    "        conn.close()"
   ]
  },
  {
   "cell_type": "markdown",
   "metadata": {},
   "source": [
    "### 4.The code finds and returns the name of a person whose face matches a given face encoding from the database.\n",
    "___\n",
    "___"
   ]
  },
  {
   "cell_type": "code",
   "execution_count": null,
   "metadata": {},
   "outputs": [],
   "source": [
    "def find_matching_face(face_encoding):\n",
    "    try:\n",
    "        conn = connect_db()\n",
    "        cursor = conn.cursor()\n",
    "\n",
    "        cursor.execute(\"SELECT NAME, encoding FROM attendance\")\n",
    "        all_faces = cursor.fetchall()\n",
    "\n",
    "        for stored_name, stored_encoding_blob in all_faces:\n",
    "            if stored_encoding_blob: \n",
    "                try:\n",
    "                    stored_encoding = pickle.loads(stored_encoding_blob) \n",
    "\n",
    "                    matches = face_recognition.compare_faces([stored_encoding], face_encoding)\n",
    "\n",
    "                    if matches[0]: \n",
    "                        return stored_name\n",
    "                except Exception as e:\n",
    "                    print(f\"Error decoding face encoding for {stored_name}: {e}\")\n",
    "    except sqlite3.OperationalError as e:\n",
    "        print(f\"Database is locked or another operational error occurred: {e}\")\n",
    "    finally:\n",
    "        conn.close()\n",
    "\n",
    "    return None\n"
   ]
  },
  {
   "cell_type": "markdown",
   "metadata": {},
   "source": [
    "# 4. Loading Haarcascade Model\n",
    "___"
   ]
  },
  {
   "cell_type": "code",
   "execution_count": null,
   "metadata": {},
   "outputs": [],
   "source": [
    "face_detection = cv2.CascadeClassifier(r'c:\\Users\\skynet\\Pictures\\Ml Projects\\haarcascade_frontalface_default.xml')"
   ]
  },
  {
   "cell_type": "markdown",
   "metadata": {},
   "source": [
    "# 5. start the camera\n",
    "___\n",
    "___"
   ]
  },
  {
   "cell_type": "code",
   "execution_count": null,
   "metadata": {},
   "outputs": [],
   "source": [
    "\n",
    "camera = cv2.VideoCapture(0)"
   ]
  },
  {
   "cell_type": "markdown",
   "metadata": {},
   "source": [
    "# 6.Track the presence status (in/out)\n",
    "___"
   ]
  },
  {
   "cell_type": "code",
   "execution_count": null,
   "metadata": {},
   "outputs": [],
   "source": [
    "person_present = {}\n",
    "last_seen_time = {}\n",
    "cooldown_time = 20"
   ]
  },
  {
   "cell_type": "markdown",
   "metadata": {},
   "source": [
    "# 7.Loop for Face Detection and Attendance Logging\n",
    "___"
   ]
  },
  {
   "cell_type": "code",
   "execution_count": 2,
   "metadata": {},
   "outputs": [
    {
     "name": "stdout",
     "output_type": "stream",
     "text": [
      "Encoding to be stored for shahd: [-0.08002024  0.09479529  0.0681569  -0.06637253 -0.03428217 -0.00902759\n",
      " -0.03725578 -0.13216746  0.19444416 -0.18779844  0.18869168  0.024106\n",
      " -0.16486718  0.06274083 -0.05953491  0.14963475 -0.12024979 -0.1352302\n",
      " -0.08346893 -0.02789873 -0.0164275   0.04432323 -0.01261143  0.04204717\n",
      " -0.15639256 -0.28452903 -0.11808975 -0.0539486   0.07329038 -0.01535869\n",
      " -0.06171651  0.01646279 -0.1395956   0.03812061  0.0905349   0.07032199\n",
      " -0.01646456 -0.05518173  0.2470955   0.06942674 -0.21236864 -0.06100057\n",
      "  0.05942722  0.24396278  0.19972004  0.00135879  0.06437322 -0.14295848\n",
      "  0.10555193 -0.26957902  0.07591765  0.13344507  0.03686685  0.14215675\n",
      "  0.05395338 -0.14513342  0.05260829  0.15007514 -0.16762738  0.05966691\n",
      "  0.07618096 -0.05419493 -0.03140914  0.03061246  0.23469386  0.14485206\n",
      " -0.11735696 -0.17163315  0.21660523 -0.23020014 -0.03963112  0.07195301\n",
      " -0.06299677 -0.17439201 -0.19294779 -0.02522257  0.46178758  0.23673175\n",
      " -0.15207525  0.06740405 -0.12457433 -0.08790396  0.13244346  0.08330613\n",
      " -0.03730301 -0.02484328 -0.00776801 -0.00120429  0.33311495  0.03219411\n",
      "  0.01023637  0.19708782  0.01063444 -0.01527641  0.02169509  0.04520444\n",
      " -0.10202291 -0.03737783 -0.09660059 -0.07414475 -0.05175982 -0.03233183\n",
      "  0.01614087  0.16120382 -0.29625133  0.26519915 -0.01910487 -0.05965948\n",
      "  0.0532484   0.05337286 -0.0206262  -0.03259693  0.16027926 -0.24205989\n",
      "  0.17734225  0.16105261  0.02537267  0.14275412  0.02720228  0.09675083\n",
      "  0.0380723  -0.03448689 -0.15960965 -0.09786543 -0.0108432  -0.08608009\n",
      "  0.06317481 -0.00219402]\n",
      "No encoding found or stored encoding is None for shahd\n"
     ]
    }
   ],
   "source": [
    "\n",
    "create_or_update_table()\n",
    "\n",
    "while True:\n",
    "    st, frame = camera.read()\n",
    "    if not st:\n",
    "        print(\"Failed to capture image\")\n",
    "        break\n",
    "\n",
    "    gray_frame = cv2.cvtColor(frame, cv2.COLOR_BGR2GRAY)\n",
    "    faces = face_detection.detectMultiScale(gray_frame, 1.3, 5)\n",
    "    current_time = datetime.now().strftime('%Y-%m-%d %H:%M:%S')\n",
    "\n",
    "    for (x, y, w, h) in faces:\n",
    "        cv2.rectangle(frame, (x, y), (x+w, y+h), (0, 255, 0), 2)\n",
    "\n",
    "        rgb_frame = cv2.cvtColor(frame, cv2.COLOR_BGR2RGB)\n",
    "        face_encodings = face_recognition.face_encodings(rgb_frame, [(y, x+w, y+h, x)])\n",
    "\n",
    "        for face_encoding in face_encodings:\n",
    "            name = find_matching_face(face_encoding)\n",
    "\n",
    "            if name:\n",
    "                cv2.putText(frame, f\"{name}\", (x, y - 10), cv2.FONT_HERSHEY_SIMPLEX, 0.9, (255, 0, 0), 2)\n",
    "\n",
    "                if name not in person_present:\n",
    "                    When_entry(name, face_encoding)\n",
    "                    person_present[name] = True\n",
    "\n",
    "                last_seen_time[name] = time.time()\n",
    "            else:\n",
    "                actual_name = input(\"Enter the name for the new person: \")\n",
    "                When_entry(actual_name, face_encoding)\n",
    "                person_present[actual_name] = True\n",
    "                last_seen_time[actual_name] = time.time()\n",
    "                cv2.putText(frame, f\"{actual_name}\", (x, y - 10), cv2.FONT_HERSHEY_SIMPLEX, 0.9, (255, 0, 0), 2)\n",
    "\n",
    "    for name in list(person_present.keys()):\n",
    "        if time.time() - last_seen_time.get(name, 0) > cooldown_time:\n",
    "            when_exit(name)\n",
    "            del person_present[name]\n",
    "\n",
    "    cv2.imshow('Camera', frame)\n",
    "\n",
    "    if cv2.waitKey(33) & 0xff == ord('q'):\n",
    "        break\n",
    "\n",
    "camera.release()\n",
    "cv2.destroyAllWindows()\n"
   ]
  }
 ],
 "metadata": {
  "kernelspec": {
   "display_name": "Python 3",
   "language": "python",
   "name": "python3"
  },
  "language_info": {
   "codemirror_mode": {
    "name": "ipython",
    "version": 3
   },
   "file_extension": ".py",
   "mimetype": "text/x-python",
   "name": "python",
   "nbconvert_exporter": "python",
   "pygments_lexer": "ipython3",
   "version": "3.12.5"
  }
 },
 "nbformat": 4,
 "nbformat_minor": 2
}
